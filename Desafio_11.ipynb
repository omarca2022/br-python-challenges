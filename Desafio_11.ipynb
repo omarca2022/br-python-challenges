{
 "cells": [
  {
   "cell_type": "markdown",
   "metadata": {
    "colab_type": "text",
    "id": "view-in-github"
   },
   "source": [
    "![](https://i.imgur.com/YX6UATs.png)"
   ]
  },
  {
   "cell_type": "markdown",
   "metadata": {
    "colab_type": "text",
    "id": "y1R0m4oWf6Jz"
   },
   "source": [
    "### Desafio 8\n",
    "Dados uma sequência com `n` números inteiros, determinar quantos números da sequência são pares e quantos são ímpares.\\\n",
    "Por exemplo, para a sequência\n",
    "\n",
    "`6   2   7  -5   8  -4`\n",
    "\n",
    "a sua função deve retornar o número 4 para o número de pares e 2 para o de ímpares.\\\n",
    "A saída deve ser um **tupla** contendo primeiramente o número de pares e em seguida o número de ímpares.\\\n",
    "Para o exemplo anterior, a saída seria `(4, 2)`."
   ]
  },
  {
   "cell_type": "code",
   "execution_count": 6,
   "metadata": {
    "colab": {},
    "colab_type": "code",
    "id": "pSIzX4zUf6Jz"
   },
   "outputs": [],
   "source": [
    "# Seu código\n",
    "def contar_pares_impares(entrada):\n",
    "    contp = 0\n",
    "    conti = 0\n",
    "    list = []\n",
    "    for i in entrada:\n",
    "        if i % 2 == 0:\n",
    "            contp = contp + 1\n",
    "        else:\n",
    "            conti = conti + 1\n",
    "    list.append(contp)\n",
    "    list.append(conti)\n",
    "    return tuple(list)"
   ]
  },
  {
   "cell_type": "code",
   "execution_count": 11,
   "metadata": {},
   "outputs": [
    {
     "data": {
      "text/plain": [
       "(5, 6)"
      ]
     },
     "execution_count": 11,
     "metadata": {},
     "output_type": "execute_result"
    }
   ],
   "source": [
    "entrada = [-3, 2, 7, -5, 8, -4, 9, 569, 2, 2, 7]\n",
    "contar_pares_impares(entrada)"
   ]
  },
  {
   "cell_type": "code",
   "execution_count": null,
   "metadata": {},
   "outputs": [],
   "source": []
  }
 ],
 "metadata": {
  "anaconda-cloud": {},
  "colab": {
   "include_colab_link": true,
   "name": "Desafio 11.ipynb",
   "provenance": []
  },
  "kernelspec": {
   "display_name": "Python 3 (ipykernel)",
   "language": "python",
   "name": "python3"
  },
  "language_info": {
   "codemirror_mode": {
    "name": "ipython",
    "version": 3
   },
   "file_extension": ".py",
   "mimetype": "text/x-python",
   "name": "python",
   "nbconvert_exporter": "python",
   "pygments_lexer": "ipython3",
   "version": "3.9.7"
  }
 },
 "nbformat": 4,
 "nbformat_minor": 1
}
